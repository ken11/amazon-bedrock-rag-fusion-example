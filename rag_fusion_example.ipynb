{
 "cells": [
  {
   "cell_type": "markdown",
   "id": "de8c6410-082d-4855-a354-539f30c0ae82",
   "metadata": {},
   "source": [
    "# Amazon Bedrockで実践してみるRAG-Fusion"
   ]
  },
  {
   "cell_type": "markdown",
   "id": "6ef1b405-67c6-47d6-817b-7ca850e2a7f2",
   "metadata": {
    "tags": []
   },
   "source": [
    "[RAG-Fusion](https://arxiv.org/abs/2402.03367)はご存じですか？  \n",
    "これは既存のRAGの発展形として、複数のクエリとRRFを行使することでより包括的な回答を提供する試みです。  \n",
    "今回はこのRAG-FusionをAmazon Bedrockを使って簡単に実装してみたいと思います。"
   ]
  },
  {
   "cell_type": "markdown",
   "id": "6164d381-6cf4-4fe7-a9ac-d5a92ef400fa",
   "metadata": {},
   "source": [
    "## 前提条件\n",
    "- Bedrock上でモデルのリクエストが完了している\n",
    "- Bedrock上でナレッジベースができあがっている\n",
    "- Bedrockの操作に必要なIAMが用意できている"
   ]
  },
  {
   "cell_type": "markdown",
   "id": "b8dbce99-b36c-4641-91b5-4117b80914b0",
   "metadata": {},
   "source": [
    "## 準備\n",
    "まずは必要なライブラリ等を準備します"
   ]
  },
  {
   "cell_type": "code",
   "execution_count": 91,
   "id": "baa56c01-aadf-4b74-8f10-28893b41cf52",
   "metadata": {
    "tags": []
   },
   "outputs": [],
   "source": [
    "import boto3\n",
    "import json"
   ]
  },
  {
   "cell_type": "code",
   "execution_count": 92,
   "id": "53a9eb63-8cda-4354-8a8a-035f55a478ee",
   "metadata": {
    "tags": []
   },
   "outputs": [],
   "source": [
    "# ナレッジベースのID\n",
    "knowledge_base_id = \"\"\n",
    "# データソースのID\n",
    "data_source_id = \"\"\n",
    "kb_client_runtime = boto3.client('bedrock-agent-runtime')\n",
    "bedrock_runtime = boto3.client(service_name='bedrock-runtime')\n",
    "\n",
    "# 推論用モデル(今回はClaudeのv2を使います)\n",
    "model_id = \"anthropic.claude-v2\"\n",
    "# クエリ拡張用のモデル(Claude Instantを使います。これは簡単なタスクにおける速度向上が狙いです)\n",
    "q_model_id = \"anthropic.claude-instant-v1\"\n",
    "\n",
    "region = \"us-east-1\""
   ]
  },
  {
   "cell_type": "markdown",
   "id": "4f6c5497-c4c7-408c-b90e-a5693c505daf",
   "metadata": {},
   "source": [
    "## 推論の準備\n",
    "Claudeで推論するための準備をします。  \n",
    "今回はクエリ拡張と実際の推論時でモデルを使い分けたいので、引数に`model_id`を入れています。"
   ]
  },
  {
   "cell_type": "code",
   "execution_count": 94,
   "id": "f360d3e8-a778-4d4b-ad14-5707bf4cb79d",
   "metadata": {
    "tags": []
   },
   "outputs": [],
   "source": [
    "def invoke_claude(text, model_id, max_tokens_to_sample=1000):\n",
    "    body = json.dumps({\n",
    "        \"prompt\": f\"\\n\\nHuman:{text}\\n\\nAssistant: \",\n",
    "        \"max_tokens_to_sample\": max_tokens_to_sample,\n",
    "        \"temperature\": 0.1,\n",
    "        \"top_p\": 0.9,\n",
    "    })\n",
    "    accept = 'application/json'\n",
    "    content_type = 'application/json'\n",
    "\n",
    "    response = bedrock_runtime.invoke_model(\n",
    "        body=body,\n",
    "        modelId=model_id,\n",
    "        accept=accept,\n",
    "        contentType=content_type\n",
    "    )\n",
    "\n",
    "    response_body = json.loads(response.get('body').read())\n",
    "    return response_body.get('completion')[1:]"
   ]
  },
  {
   "cell_type": "markdown",
   "id": "2470aadc-831e-4978-b488-28803f8b7d40",
   "metadata": {},
   "source": [
    "## クエリ拡張\n",
    "次に、クエリの拡張用のコードを用意します。  \n",
    "RAG-Fusionは元のユーザクエリに対して関連する検索クエリを複数生成させ、それらのクエリによるRAGの結果もあわせてランキング評価する試みです。  \n",
    "ここではまず元のクエリに関連する検索クエリを生成させる部分を実装します。  \n",
    "この際、**単調な類語変換ではなく、なるべく多角的な視点からクエリを生成させることがRAG-Fusionのコツ**となっています。"
   ]
  },
  {
   "cell_type": "code",
   "execution_count": 96,
   "id": "943145f8-9071-4310-82dc-e1704b2130a8",
   "metadata": {
    "tags": []
   },
   "outputs": [],
   "source": [
    "def generate_queries(original_query, n=4):\n",
    "    f = ''\n",
    "    for i in range(n):\n",
    "        f += f'{n}: \\n'\n",
    "\n",
    "    prompt = f'''\n",
    "以下に示すQueryはユーザの入力した検索クエリです。\n",
    "このクエリに関連するクエリを多角的な視点から{n}つ生成してください\n",
    "Formatに従って結果を出力してください\n",
    "\n",
    "<Query>\n",
    "{original_query}\n",
    "</Query>\n",
    "\n",
    "<Format>\n",
    "{f}\n",
    "</Format>\n",
    "'''\n",
    "    result = invoke_claude(prompt, q_model_id)\n",
    "    result = result.split('<Format>')[1].split('</Format>')[0]\n",
    "    # print(result)\n",
    "    generated_queries = []\n",
    "    for q in result.split('\\n'):\n",
    "        if q == '':\n",
    "            continue\n",
    "        generated_queries.append(q.split(' ')[1])\n",
    "    return generated_queries[1:-1]"
   ]
  },
  {
   "cell_type": "markdown",
   "id": "b55914d9-3151-44d8-a162-716282177d5d",
   "metadata": {},
   "source": [
    "## RAG\n",
    "続いてRAGの実装をします。  \n",
    "今回はAmazon Bedrockのナレッジベースを使っているので非常に簡単に実行できます。"
   ]
  },
  {
   "cell_type": "code",
   "execution_count": 97,
   "id": "b22bc529-1fcc-40ec-a295-5582279c6ed4",
   "metadata": {
    "tags": []
   },
   "outputs": [],
   "source": [
    "def kb_search(query, n=5):\n",
    "    res = kb_client_runtime.retrieve(\n",
    "        retrievalQuery= {\n",
    "            'text': query\n",
    "        },\n",
    "        knowledgeBaseId=knowledge_base_id,\n",
    "        retrievalConfiguration= {\n",
    "            'vectorSearchConfiguration': {\n",
    "                'numberOfResults': n\n",
    "            }\n",
    "        }\n",
    "    )\n",
    "\n",
    "    # {doc: score}の形に整形します\n",
    "    return_dict = {}\n",
    "    for r in res['retrievalResults']:\n",
    "        return_dict[r['content']['text']] = r['score']\n",
    "\n",
    "    return return_dict"
   ]
  },
  {
   "cell_type": "markdown",
   "id": "f239656d-1fc4-4dcd-babb-2383f59d4cdb",
   "metadata": {},
   "source": [
    "## RRF\n",
    "次にRRFを実装します。  \n",
    "複数クエリによるRAGの結果を集約して再評価している部分です。"
   ]
  },
  {
   "cell_type": "code",
   "execution_count": 98,
   "id": "6fbbea69-6929-486c-ada9-fdc1d548edfa",
   "metadata": {
    "tags": []
   },
   "outputs": [],
   "source": [
    "def reciprocal_rank_fusion(all_results, k=50):\n",
    "    fused_scores = {}\n",
    "    for query, doc_scores in all_results.items():\n",
    "        for rank, (doc, score) in enumerate(sorted(doc_scores.items(), key=lambda x: x[1], reverse=True)):\n",
    "            if doc not in fused_scores:\n",
    "                fused_scores[doc] = 0\n",
    "            previous_score = fused_scores[doc]\n",
    "            fused_scores[doc] += 1 / (rank + k)\n",
    "\n",
    "    reranked_results = {doc: score for doc, score in sorted(fused_scores.items(), key=lambda x: x[1], reverse=True)}\n",
    "    return reranked_results"
   ]
  },
  {
   "cell_type": "markdown",
   "id": "a498fd56-0e0c-4d67-bc9f-1c0740a5e283",
   "metadata": {},
   "source": [
    "## 実行\n",
    "一通りの準備ができたので実行していきます。  "
   ]
  },
  {
   "cell_type": "markdown",
   "id": "29acca48-9e1d-481c-9018-f2712b4abbbc",
   "metadata": {},
   "source": [
    "まずは検索クエリを拡張します。"
   ]
  },
  {
   "cell_type": "code",
   "execution_count": 99,
   "id": "e7ca40c6-4c1e-4c69-8d0f-1efbe9c1407d",
   "metadata": {
    "tags": []
   },
   "outputs": [],
   "source": [
    "original_query = '確定申告について教えて'\n",
    "\n",
    "queries = generate_queries(original_query)\n",
    "queries.insert(0, original_query)"
   ]
  },
  {
   "cell_type": "markdown",
   "id": "39fc04e9-1148-4898-8377-798ae0062636",
   "metadata": {},
   "source": [
    "続いて、拡張されたクエリ群を使って通常のRAG検索をします。"
   ]
  },
  {
   "cell_type": "code",
   "execution_count": 101,
   "id": "29c92f10-2ed4-412b-b814-8b63d832326a",
   "metadata": {
    "tags": []
   },
   "outputs": [],
   "source": [
    "all_results = {}\n",
    "for q in queries:\n",
    "    all_results[q] = kb_search(q)"
   ]
  },
  {
   "cell_type": "markdown",
   "id": "bcd6ee9a-350e-4833-915b-1bd4072dac00",
   "metadata": {
    "tags": []
   },
   "source": [
    "RRFで再評価します。"
   ]
  },
  {
   "cell_type": "code",
   "execution_count": 103,
   "id": "4d52824b-d5fb-429b-a1af-b8cc3ddb6382",
   "metadata": {
    "tags": []
   },
   "outputs": [],
   "source": [
    "# ここでは上位5件を採用している\n",
    "reranked_results = list(reciprocal_rank_fusion(all_results).keys())[:5]"
   ]
  },
  {
   "cell_type": "markdown",
   "id": "427c22ff-0135-42db-82b6-0a5c28919bb5",
   "metadata": {},
   "source": [
    "RAG-Fusionの結果を取り込みながらプロンプトを作成します。"
   ]
  },
  {
   "cell_type": "code",
   "execution_count": 104,
   "id": "2ad71b00-3b0b-4c56-a194-a8017642ecc8",
   "metadata": {
    "tags": []
   },
   "outputs": [],
   "source": [
    "information = ''\n",
    "for i, r in enumerate(reranked_results):\n",
    "    information += f'情報{i+1}. {r}\\n'\n",
    "\n",
    "prompt = \"\"\"\n",
    "日本では本日(2月16日)から確定申告の相談及び申告書の受付がスタートしましたね。\n",
    "この国の風物詩であるこの確定申告という儀式では、毎年数多の迷える子羊が出現することで有名です。\n",
    "あなたは全知全能の税神として、迷える子羊の抱いている確定申告に対する悩みを聞き、彼らを正しき納税へと導いてください。\n",
    "全知全能たるあなたのために、Informationセクションには迷える子羊の悩みに関連しそうな情報を提供します。有効に活用してください。\n",
    "\n",
    "<Information>\n",
    "{information}\n",
    "</Information>\n",
    "\n",
    "<UserQuery>\n",
    "{query}\n",
    "</UserQuery>\n",
    "\"\"\"\n",
    "prompt = prompt.format(information=information, query=original_query)"
   ]
  },
  {
   "cell_type": "markdown",
   "id": "46323fa3-06e4-4346-a6c1-4eaf335e0be8",
   "metadata": {},
   "source": [
    "回答を生成します。"
   ]
  },
  {
   "cell_type": "code",
   "execution_count": 105,
   "id": "1e3f2558-1607-4a14-a417-c7d2e92d0e31",
   "metadata": {
    "tags": []
   },
   "outputs": [
    {
     "name": "stdout",
     "output_type": "stream",
     "text": [
      "確定申告について、以下の点をご説明します。\n",
      "\n",
      "- 確定申告は、1年間の所得や税額を確定させるための申告です。所得税や住民税の申告書を税務署に提出することになります。\n",
      "\n",
      "- 確定申告が必要な方は、給与所得者で年末調整を受けていない方や、自営業者の方などです。申告が必要かどうかは情報1の「確定申告の概要」をご確認ください。\n",
      "\n",
      "- 申告期間は2月16日から3月15日までです。郵送やe-Taxで提出できます。提出方法は情報1の「申告書の提出方法」をご覧ください。\n",
      "\n",
      "- 申告書には収入や所得控除などを正確に記入します。所得税と住民税で取り扱いが異なる項目があるので、住民税の記入も必要です。\n",
      "\n",
      "- 申告書には本人確認のための書類を添付する必要があります。情報5をご確認ください。\n",
      "\n",
      "- 納税は3月15日が期限です。納付方法は情報2をご覧ください。\n",
      "\n",
      "確定申告で不明な点があれば、ご質問ください。ご案内できる範囲でお答えします。\n"
     ]
    }
   ],
   "source": [
    "print(invoke_claude(prompt, model_id))"
   ]
  },
  {
   "cell_type": "markdown",
   "id": "07d3bf7c-9921-4b7f-a0c5-3c1e3f31270b",
   "metadata": {
    "tags": []
   },
   "source": [
    "# Example\n",
    "## 通常のRAGによる回答\n",
    "```\n",
    "確定申告について、以下の点をご説明します。\n",
    "\n",
    "1. 確定申告の概要\n",
    "- 所得税や復興特別所得税を納める義務がある人は、1年間の所得について確定申告を行う必要があります。\n",
    "- 確定申告は、申告書に必要事項を記入して税務署に提出することで行います。\n",
    "\n",
    "2. 確定申告が必要な人\n",
    "- 給与所得者でも、一定の条件を満たす場合は確定申告が必要です。\n",
    "- 自営業者や農業者などの申告が必要な所得がある人も確定申告が必要です。 \n",
    "\n",
    "3. 確定申告のメリット\n",
    "- 税額控除などを受けることができ、納める税金を減らすことができます。\n",
    "- 医療費控除などにより、所得税や住民税の還付を受けることができます。\n",
    "\n",
    "4. 確定申告の手続き\n",
    "- 確定申告書に必要事項を記入し、添付書類を添えて税務署に提出します。\n",
    "- e-Taxなどの電子申告も利用できます。\n",
    "- 申告期限は原則3月15日です。\n",
    "\n",
    "5. 納税\n",
    "- 確定申告後、計算した税額を納付期限までに納める必要があります。 \n",
    "- 納付には納税通知書や振替納税などの方法があります。\n",
    "\n",
    "確定申告の概要は以上の通りです。不明な点があればご質問ください。\n",
    "```\n",
    "\n",
    "## RAG-Fusionによる回答\n",
    "```\n",
    "確定申告に関しては、以下の点に注意が必要です。\n",
    "\n",
    "1. 確定申告の手続き\n",
    "- 申告期間は2月16日から3月15日までです。郵送またはe-Taxで提出できます。\n",
    "- 申告書の控えに収受印をもらう場合は、郵送時に返信用封筒を同封するか、受付で控えを持参する必要があります。\n",
    "\n",
    "2. 納税の方法\n",
    "- 納付期限は3月15日です。キャッシュレス納付が便利です。\n",
    "- 振替納税を利用する場合は3月15日までに手続きが必要です。\n",
    "\n",
    "3. 控除の記入\n",
    "- 医療費控除、社会保険料控除、生命保険料控除などの控除を受ける場合は、第一表と第二表にそれぞれ記入が必要です。\n",
    "\n",
    "4. 住民税・事業税\n",
    "- 別居家族の氏名・住所を記入する必要があります。\n",
    "\n",
    "5. 還付金の受取\n",
    "- 公金受取口座を登録・利用する場合は手続きが必要です。\n",
    "\n",
    "以上の点に注意し、確定申告の手続きを進めましょう。不明な点があれば税務署に問い合わせることをおすすめします。\n",
    "```"
   ]
  },
  {
   "cell_type": "markdown",
   "id": "98b7f93e-6932-4338-accc-8ae75b604b6f",
   "metadata": {},
   "source": [
    "内容が正しいかどうかはともかく、RAG-Fusionの方が還付金等、情報の幅が広がっているように見えます。"
   ]
  },
  {
   "cell_type": "code",
   "execution_count": null,
   "id": "960b4a7e-91bc-4067-878a-3de8d83f1136",
   "metadata": {},
   "outputs": [],
   "source": []
  }
 ],
 "metadata": {
  "kernelspec": {
   "display_name": "conda_pytorch_p310",
   "language": "python",
   "name": "conda_pytorch_p310"
  },
  "language_info": {
   "codemirror_mode": {
    "name": "ipython",
    "version": 3
   },
   "file_extension": ".py",
   "mimetype": "text/x-python",
   "name": "python",
   "nbconvert_exporter": "python",
   "pygments_lexer": "ipython3",
   "version": "3.10.13"
  }
 },
 "nbformat": 4,
 "nbformat_minor": 5
}
